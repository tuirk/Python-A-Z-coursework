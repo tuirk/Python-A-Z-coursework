{
 "cells": [
  {
   "cell_type": "markdown",
   "metadata": {},
   "source": [
    "## HW 2 - Financial Statement Analysis"
   ]
  },
  {
   "cell_type": "markdown",
   "metadata": {},
   "source": [
    "Scenario: You are a Data Scientist working for a consulting firm. One of your\n",
    "colleagues from the Auditing department has asked you to help them assess the financial statement of organisation X. You have been supplied with two lists of data: monthly revenue and monthly expenses for the financial year in question. Your task is to calculate the following\n",
    "financial metrics:\n",
    "- profit for each month\n",
    "- profit after tax for each month (the tax rate is 30%)\n",
    "- profit margin for each month - equals to profit after tax divided by revenue\n",
    "- good months - where the profit after tax was greater than the mean for the year\n",
    "- bad months - where the profit after tax was less than the mean for the year\n",
    "- the best month - where the profit after tax was max for the year\n",
    "- the worst month - where the profit after tax was min for the year\n",
    "\n",
    "All results need to be presented as lists.\n",
    "Results for dollar values need to be calculated with $0.01 precision, but need to be\n",
    "presented in Units of $1,000 (i.e. 1k) with no decimal points.\n",
    "Results for the profit margin ratio need to be presented in units of % with no\n",
    "decimal points.\n",
    "Note: Your colleague has warned you that it is okay for tax for any given month to be\n",
    "negative (in accounting terms, negative tax translates into a deferred tax asset)."
   ]
  },
  {
   "cell_type": "code",
   "execution_count": 1,
   "metadata": {},
   "outputs": [],
   "source": [
    "#Data \n",
    "revenue = [14574.49, 7606.46, 8611.41, 9175.41, 8058.65, 8105.44, 11496.28, 9766.09, 10305.32, 14379.96, 10713.97, 15433.50]\n",
    "expenses = [12051.82, 5695.07, 12319.20, 12089.72, 8658.57, 840.20, 3285.73, 5821.12, 6976.93, 16618.61, 10054.37, 3803.96]"
   ]
  },
  {
   "cell_type": "code",
   "execution_count": 2,
   "metadata": {},
   "outputs": [
    {
     "data": {
      "text/plain": [
       "[2522.67,\n",
       " 1911.3900000000003,\n",
       " -3707.790000000001,\n",
       " -2914.3099999999995,\n",
       " -599.9200000000001,\n",
       " 7265.24,\n",
       " 8210.550000000001,\n",
       " 3944.9700000000003,\n",
       " 3328.3899999999994,\n",
       " -2238.6500000000015,\n",
       " 659.5999999999985,\n",
       " 11629.54]"
      ]
     },
     "execution_count": 2,
     "metadata": {},
     "output_type": "execute_result"
    }
   ],
   "source": [
    "#Calculate Profit As The Differences Between Revenue And Expenses\n",
    "profit = []\n",
    "\n",
    "for i in range (0, len(revenue)):\n",
    "    profit.append(revenue[i] - expenses[i])\n",
    "profit"
   ]
  },
  {
   "cell_type": "code",
   "execution_count": 3,
   "metadata": {},
   "outputs": [
    {
     "data": {
      "text/plain": [
       "[756.8,\n",
       " 573.42,\n",
       " -1112.34,\n",
       " -874.29,\n",
       " -179.98,\n",
       " 2179.57,\n",
       " 2463.17,\n",
       " 1183.49,\n",
       " 998.52,\n",
       " -671.6,\n",
       " 197.88,\n",
       " 3488.86]"
      ]
     },
     "execution_count": 3,
     "metadata": {},
     "output_type": "execute_result"
    }
   ],
   "source": [
    "#Calculate Tax As 30% Of Profit And Round To 2 Decimal Points\n",
    "tax = [round(i * 0.3, 2) for i in profit]\n",
    "tax\n",
    "\n"
   ]
  },
  {
   "cell_type": "code",
   "execution_count": 5,
   "metadata": {},
   "outputs": [
    {
     "data": {
      "text/plain": [
       "[1765.8700000000001,\n",
       " 1337.9700000000003,\n",
       " -2595.4500000000007,\n",
       " -2040.0199999999995,\n",
       " -419.94000000000005,\n",
       " 5085.67,\n",
       " 5747.380000000001,\n",
       " 2761.4800000000005,\n",
       " 2329.8699999999994,\n",
       " -1567.0500000000015,\n",
       " 461.71999999999855,\n",
       " 8140.68]"
      ]
     },
     "execution_count": 5,
     "metadata": {},
     "output_type": "execute_result"
    }
   ],
   "source": [
    "#Calculate Profit Remaining After Tax Is Deducted\n",
    "profit_after_tax = []\n",
    "for i in range (0, len(profit)):\n",
    "    profit_after_tax.append(profit[i] - tax[i])\n",
    "profit_after_tax"
   ]
  },
  {
   "cell_type": "code",
   "execution_count": 7,
   "metadata": {},
   "outputs": [
    {
     "data": {
      "text/plain": [
       "[12.12,\n",
       " 17.59,\n",
       " -30.14,\n",
       " -22.23,\n",
       " -5.21,\n",
       " 62.74,\n",
       " 49.99,\n",
       " 28.28,\n",
       " 22.61,\n",
       " -10.9,\n",
       " 4.31,\n",
       " 52.75]"
      ]
     },
     "execution_count": 7,
     "metadata": {},
     "output_type": "execute_result"
    }
   ],
   "source": [
    "#Calculate The Profit Margin As Profit After Tax Over Revenue\n",
    "#Round To 2 Decimal Points, Then Multiply By 100 To Get %\n",
    "profit_margin = []\n",
    "for i in range (0, len(profit)):\n",
    "    profit_margin.append(profit_after_tax[i] / revenue[i])\n",
    "profit_margin\n",
    "\n",
    "profit_margin = [round((i*100),2) for i in profit_margin]\n",
    "\n",
    "profit_margin"
   ]
  },
  {
   "cell_type": "code",
   "execution_count": 8,
   "metadata": {},
   "outputs": [
    {
     "data": {
      "text/plain": [
       "1750.6816666666666"
      ]
     },
     "execution_count": 8,
     "metadata": {},
     "output_type": "execute_result"
    }
   ],
   "source": [
    "#Calculate The Mean Profit After Tax For The 12 Months\n",
    "mean_pat = sum(profit_after_tax) / len(profit_after_tax)\n",
    "mean_pat"
   ]
  },
  {
   "cell_type": "code",
   "execution_count": 9,
   "metadata": {},
   "outputs": [
    {
     "data": {
      "text/plain": [
       "[True, False, False, False, False, True, True, True, True, False, False, True]"
      ]
     },
     "execution_count": 9,
     "metadata": {},
     "output_type": "execute_result"
    }
   ],
   "source": [
    "#Find The Months With Above-Mean Profit After Tax\n",
    "good_months = []\n",
    "for i in range (0, len(profit_after_tax)):\n",
    "    good_months.append(profit_after_tax[i] > mean_pat)\n",
    "good_months"
   ]
  },
  {
   "cell_type": "code",
   "execution_count": 10,
   "metadata": {},
   "outputs": [
    {
     "data": {
      "text/plain": [
       "[False, True, True, True, True, False, False, False, False, True, True, False]"
      ]
     },
     "execution_count": 10,
     "metadata": {},
     "output_type": "execute_result"
    }
   ],
   "source": [
    "#Bad Months Are The Opposite Of Good Months!\n",
    "bad_months = []\n",
    "for i in range (0, len(profit_after_tax)):\n",
    "    bad_months.append(not (good_months[i]))\n",
    "bad_months"
   ]
  },
  {
   "cell_type": "code",
   "execution_count": 11,
   "metadata": {},
   "outputs": [
    {
     "data": {
      "text/plain": [
       "[False,\n",
       " False,\n",
       " False,\n",
       " False,\n",
       " False,\n",
       " False,\n",
       " False,\n",
       " False,\n",
       " False,\n",
       " False,\n",
       " False,\n",
       " True]"
      ]
     },
     "execution_count": 11,
     "metadata": {},
     "output_type": "execute_result"
    }
   ],
   "source": [
    "#The Best Month Is Where Profit After Tax Was Equal To The Maximum\n",
    "best_month = []\n",
    "for i in range (0, len(profit_after_tax)):\n",
    "    best_month.append(profit_after_tax[i] == max(profit_after_tax))\n",
    "best_month"
   ]
  },
  {
   "cell_type": "code",
   "execution_count": 12,
   "metadata": {},
   "outputs": [
    {
     "data": {
      "text/plain": [
       "[False,\n",
       " False,\n",
       " True,\n",
       " False,\n",
       " False,\n",
       " False,\n",
       " False,\n",
       " False,\n",
       " False,\n",
       " False,\n",
       " False,\n",
       " False]"
      ]
     },
     "execution_count": 12,
     "metadata": {},
     "output_type": "execute_result"
    }
   ],
   "source": [
    "#The Worst Month Is Where Profit After Tax Was Equal To The Minimum\n",
    "worst_month = []\n",
    "for i in range (0, len(profit_after_tax)):\n",
    "    worst_month.append(profit_after_tax[i] == min(profit_after_tax))\n",
    "worst_month"
   ]
  },
  {
   "cell_type": "code",
   "execution_count": 21,
   "metadata": {},
   "outputs": [],
   "source": [
    "#Convert All Calculations To Units Of One Thousand Dollars\n",
    "revenue_1000 = [round(i/1000, 2) for i in revenue]\n",
    "expenses_1000 = [round(i/1000, 2) for i in expenses]\n",
    "profit_1000 = [round(i/1000, 2) for i in profit]\n",
    "profit_after_tax_1000 = [round(i/10000, 2) for i in profit_after_tax]\n",
    "\n",
    "revenue_1000 = [int(i) for i in revenue_1000]\n",
    "expenses_1000 = [int(i) for i in expenses_1000]\n",
    "profit_1000 = [int(i) for i in profit_1000]\n",
    "profit_after_tax_1000 = [int(i) for i in profit_after_tax_1000]"
   ]
  },
  {
   "cell_type": "code",
   "execution_count": 22,
   "metadata": {},
   "outputs": [
    {
     "name": "stdout",
     "output_type": "stream",
     "text": [
      "Revenue :\n",
      "[14, 7, 8, 9, 8, 8, 11, 9, 10, 14, 10, 15]\n",
      "Expenses :\n",
      "[12, 5, 12, 12, 8, 0, 3, 5, 6, 16, 10, 3]\n",
      "Profit :\n",
      "[2, 1, -3, -2, 0, 7, 8, 3, 3, -2, 0, 11]\n",
      "Profit after tax :\n",
      "[0, 0, 0, 0, 0, 0, 0, 0, 0, 0, 0, 0]\n",
      "Profit margin :\n",
      "[12.12, 17.59, -30.14, -22.23, -5.21, 62.74, 49.99, 28.28, 22.61, -10.9, 4.31, 52.75]\n",
      "Good months :\n",
      "[True, False, False, False, False, True, True, True, True, False, False, True]\n",
      "Bad months :\n",
      "[False, True, True, True, True, False, False, False, False, True, True, False]\n",
      "Best month :\n",
      "[False, False, False, False, False, False, False, False, False, False, False, True]\n",
      "Worst month :\n",
      "[False, False, True, False, False, False, False, False, False, False, False, False]\n"
     ]
    }
   ],
   "source": [
    "#Print Results\n",
    "print (\"Revenue :\") \n",
    "print (revenue_1000)\n",
    "print (\"Expenses :\") \n",
    "print (expenses_1000)\n",
    "print (\"Profit :\")\n",
    "print(profit_1000)\n",
    "print (\"Profit after tax :\")\n",
    "print (profit_after_tax_1000)\n",
    "print (\"Profit margin :\")\n",
    "print (profit_margin)\n",
    "print (\"Good months :\")\n",
    "print (good_months)\n",
    "print (\"Bad months :\")\n",
    "print (bad_months)\n",
    "print (\"Best month :\")\n",
    "print (best_month)\n",
    "print (\"Worst month :\")\n",
    "print (worst_month)"
   ]
  },
  {
   "cell_type": "code",
   "execution_count": null,
   "metadata": {},
   "outputs": [],
   "source": []
  }
 ],
 "metadata": {
  "anaconda-cloud": {},
  "kernelspec": {
   "display_name": "Python 3 (ipykernel)",
   "language": "python",
   "name": "python3"
  },
  "language_info": {
   "codemirror_mode": {
    "name": "ipython",
    "version": 3
   },
   "file_extension": ".py",
   "mimetype": "text/x-python",
   "name": "python",
   "nbconvert_exporter": "python",
   "pygments_lexer": "ipython3",
   "version": "3.9.7"
  }
 },
 "nbformat": 4,
 "nbformat_minor": 1
}
